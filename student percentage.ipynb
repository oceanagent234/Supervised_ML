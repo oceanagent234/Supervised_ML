{
 "cells": [
  {
   "cell_type": "markdown",
   "id": "39419316-fbfd-4401-ac76-e49d8a63ebd7",
   "metadata": {},
   "source": [
    "<table align=\"center\" width=\"100%\">\n",
    "    <tr>\n",
    "        <td width=\"15%\"></td>\n",
    "        <td>\n",
    "            <div align=\"center\">\n",
    "                <font color=\"###c5a4de\" size=\"6\">\n",
    "                    <b>Student Percentage Prediction</b>\n",
    "                </font>\n",
    "            </div>\n",
    "        </td>\n",
    "    </tr>\n",
    "</table>\n",
    "          "
   ]
  },
  {
   "cell_type": "markdown",
   "id": "6d3b4cb5-b569-4bab-ac8a-dd45a0a3fae0",
   "metadata": {},
   "source": [
    "## Problem Statement\n",
    "Predict the percentage of an student based on the no. of study hours"
   ]
  },
  {
   "cell_type": "markdown",
   "id": "857ec5a8-bc20-4945-8890-81f6a3b8e66b",
   "metadata": {},
   "source": [
    "## Data Defination\n",
    "**Hours** :  The number of hours a student spends studying(Float)\n",
    "\n",
    "**Scores:**  The percentage score achieved by the student\n"
   ]
  },
  {
   "cell_type": "markdown",
   "id": "0256cee3-b0e9-4e11-9172-76dab94e5fdf",
   "metadata": {},
   "source": [
    "## Table of Contents\n",
    "\n",
    "1. **[Import Libraries](#import_lib)**\n",
    "2. **[Read Data](#Read_Data)**\n",
    "3. **[Data Analysis and Preparation](#data_preparation)**\n",
    "    - 3.1 - [Understand the Data](#Data_Understanding)\n",
    "        - 3.1.1 - [Data Dimension](#Data_Shape)\n",
    "        - 3.1.2 - [Data Types](#Data_Types)\n",
    "        - 3.1.3 - [Summary Statistics](#Summary_Statistics)\n",
    "        - 3.1.4 - [Missing Values](#Missing_Values)\n",
    "        - 3.1.5 - [Visualization](#Assumption)\n",
    "4. **[Model Building](#Training)**\n",
    "   - 4.1 - [Split the data into training and test sets](#training)\n",
    "   - 4.2 - [Build a model](#training)\n",
    "   - 4.3 - [Creating an object](#training)\n",
    "   - 4.4 - [Training](#training)\n",
    "   - 4.5 - [Predict the values using test set](#testing)\n",
    "   - 4.6 - [Actual vs Prdicted](#testing)\n",
    "   - 4.7 - [Plot Actual vs Predicted](#testing)\n",
    "   - 4.8 - [Result](#testing)\n",
    "    "
   ]
  },
  {
   "cell_type": "markdown",
   "id": "be40f4a3-c1a7-4c5d-bfac-6febcc687437",
   "metadata": {},
   "source": [
    "<a id='import_lib'></a>\n",
    "## 1. Import Libraries"
   ]
  },
  {
   "cell_type": "code",
   "execution_count": 12,
   "id": "10f0ccbf-c2b9-42f2-96c6-c7ef50925f1e",
   "metadata": {},
   "outputs": [],
   "source": [
    "# 'Pandas' is used for data manipulation and analysis\n",
    "import pandas as pd\n",
    "\n",
    "# 'Numpy' is used for mathematical operations on large, multi-dimensional arrays and matrices\n",
    "import numpy as np\n",
    "\n",
    "# 'Matplotlib' is a data visualization library for 2D and 3D plots, built on numpy\n",
    "import matplotlib.pyplot as plt\n",
    "%matplotlib inline\n",
    "\n",
    "from sklearn.model_selection import train_test_split"
   ]
  },
  {
   "cell_type": "markdown",
   "id": "c158b4a0-569f-4f10-9a60-ddf28bd3e922",
   "metadata": {},
   "source": [
    "<a id='Read Data'></a>\n",
    "## 2. Read Data"
   ]
  },
  {
   "cell_type": "code",
   "execution_count": 14,
   "id": "622b9a35-dcef-4fc9-afa0-33efbfa791d0",
   "metadata": {},
   "outputs": [
    {
     "name": "stdout",
     "output_type": "stream",
     "text": [
      "   Hours  Scores\n",
      "0    2.5      21\n",
      "1    5.1      47\n",
      "2    3.2      27\n",
      "3    8.5      75\n",
      "4    3.5      30\n"
     ]
    }
   ],
   "source": [
    "# URL of the CSV file\n",
    "url = 'https://raw.githubusercontent.com/AdiPersonalWorks/Random/master/student_scores%20-%20student_scores.csv'\n",
    "\n",
    "# read csv file using pandas\n",
    "df = pd.read_csv(url)\n",
    "\n",
    "# display the top 5 rows of the dataframe\n",
    "print(df.head())"
   ]
  },
  {
   "cell_type": "markdown",
   "id": "db405346-1055-45f3-b7cb-d0c519fce5cd",
   "metadata": {},
   "source": [
    "\n",
    "\n",
    "\n",
    "\n",
    "\n",
    "\n",
    "\n",
    "\n",
    "\n",
    "\n",
    "\n",
    "<a id='data_preparation'></a>\n",
    "## 3. Data Analysis and Preparation"
   ]
  },
  {
   "cell_type": "markdown",
   "id": "cc28573a-c788-4fb3-ba00-9196fc01c60c",
   "metadata": {},
   "source": [
    "<table align=\"left\">\n",
    "    <tr>\n",
    "        <td width=\"8%\">\n",
    "        </td>\n",
    "        <td>\n",
    "            <div align=\"left\", style=\"font-size:100%\">\n",
    "                <font color=\"#21618C\">\n",
    "                    <b>Data preparation is the process of cleaning and transforming raw data prior to building predictive models. <br><br>\n",
    "                        Here we will analyze and prepare data to perform regression analysis:<br>\n",
    "                         >>"
   ]
  },
  {
   "cell_type": "markdown",
   "id": "40f90694-107d-4df8-b00b-8fad27741f73",
   "metadata": {},
   "source": [
    "<a id='Data_Understanding'></a>\n",
    "### 3.1 Understand the Dataset"
   ]
  },
  {
   "cell_type": "markdown",
   "id": "4d315c42-24f7-46ef-83e5-58d30e38710d",
   "metadata": {},
   "source": [
    "<a id='Data_Shape'></a>\n",
    "### 3.1.1 Data Dimension"
   ]
  },
  {
   "cell_type": "code",
   "execution_count": 15,
   "id": "80f48f3a-c453-4d76-9af0-8ede8ad17f31",
   "metadata": {},
   "outputs": [
    {
     "data": {
      "text/plain": [
       "(25, 2)"
      ]
     },
     "execution_count": 15,
     "metadata": {},
     "output_type": "execute_result"
    }
   ],
   "source": [
    "df.shape"
   ]
  },
  {
   "cell_type": "markdown",
   "id": "fdc0bb03-0be3-4863-a59a-1270a73016aa",
   "metadata": {},
   "source": [
    "We see the dataframe has 2 columns and 25 observations"
   ]
  },
  {
   "cell_type": "markdown",
   "id": "41d156e6-0c35-46df-8141-74bfaee2375b",
   "metadata": {},
   "source": [
    "<a id='Data_Types'></a>\n",
    "### 3.1.2 Data Types"
   ]
  },
  {
   "cell_type": "code",
   "execution_count": 16,
   "id": "e4aa9cec-b98d-40cd-85c3-eac34c4fdfb8",
   "metadata": {},
   "outputs": [
    {
     "data": {
      "text/plain": [
       "Hours     float64\n",
       "Scores      int64\n",
       "dtype: object"
      ]
     },
     "execution_count": 16,
     "metadata": {},
     "output_type": "execute_result"
    }
   ],
   "source": [
    "df.dtypes"
   ]
  },
  {
   "cell_type": "markdown",
   "id": "114cab1c-5e92-4035-8288-9ff7038b1b9c",
   "metadata": {},
   "source": [
    "data types are  as per the data definition. We can proceed with the analysis."
   ]
  },
  {
   "cell_type": "markdown",
   "id": "ad3a03e8-71b1-4751-b305-e45ef1147598",
   "metadata": {},
   "source": [
    "<a id='Summary_Statistics'></a>\n",
    "### 3.1.3 Summary Statistics"
   ]
  },
  {
   "cell_type": "code",
   "execution_count": 17,
   "id": "8e9c1214-ec90-4469-bcc8-1cbb24684cdb",
   "metadata": {},
   "outputs": [
    {
     "data": {
      "text/html": [
       "<div>\n",
       "<style scoped>\n",
       "    .dataframe tbody tr th:only-of-type {\n",
       "        vertical-align: middle;\n",
       "    }\n",
       "\n",
       "    .dataframe tbody tr th {\n",
       "        vertical-align: top;\n",
       "    }\n",
       "\n",
       "    .dataframe thead th {\n",
       "        text-align: right;\n",
       "    }\n",
       "</style>\n",
       "<table border=\"1\" class=\"dataframe\">\n",
       "  <thead>\n",
       "    <tr style=\"text-align: right;\">\n",
       "      <th></th>\n",
       "      <th>Hours</th>\n",
       "      <th>Scores</th>\n",
       "    </tr>\n",
       "  </thead>\n",
       "  <tbody>\n",
       "    <tr>\n",
       "      <th>count</th>\n",
       "      <td>25.000000</td>\n",
       "      <td>25.000000</td>\n",
       "    </tr>\n",
       "    <tr>\n",
       "      <th>mean</th>\n",
       "      <td>5.012000</td>\n",
       "      <td>51.480000</td>\n",
       "    </tr>\n",
       "    <tr>\n",
       "      <th>std</th>\n",
       "      <td>2.525094</td>\n",
       "      <td>25.286887</td>\n",
       "    </tr>\n",
       "    <tr>\n",
       "      <th>min</th>\n",
       "      <td>1.100000</td>\n",
       "      <td>17.000000</td>\n",
       "    </tr>\n",
       "    <tr>\n",
       "      <th>25%</th>\n",
       "      <td>2.700000</td>\n",
       "      <td>30.000000</td>\n",
       "    </tr>\n",
       "    <tr>\n",
       "      <th>50%</th>\n",
       "      <td>4.800000</td>\n",
       "      <td>47.000000</td>\n",
       "    </tr>\n",
       "    <tr>\n",
       "      <th>75%</th>\n",
       "      <td>7.400000</td>\n",
       "      <td>75.000000</td>\n",
       "    </tr>\n",
       "    <tr>\n",
       "      <th>max</th>\n",
       "      <td>9.200000</td>\n",
       "      <td>95.000000</td>\n",
       "    </tr>\n",
       "  </tbody>\n",
       "</table>\n",
       "</div>"
      ],
      "text/plain": [
       "           Hours     Scores\n",
       "count  25.000000  25.000000\n",
       "mean    5.012000  51.480000\n",
       "std     2.525094  25.286887\n",
       "min     1.100000  17.000000\n",
       "25%     2.700000  30.000000\n",
       "50%     4.800000  47.000000\n",
       "75%     7.400000  75.000000\n",
       "max     9.200000  95.000000"
      ]
     },
     "execution_count": 17,
     "metadata": {},
     "output_type": "execute_result"
    }
   ],
   "source": [
    "df.describe()"
   ]
  },
  {
   "cell_type": "markdown",
   "id": "2f74bc64-34c9-413c-bbcc-f9ea090eabb6",
   "metadata": {},
   "source": [
    "\"The above output illustrates the summary statistics of all the numeric variables like the mean, median(50%), minimum, and maximum values, along with the standard deviation\""
   ]
  },
  {
   "cell_type": "markdown",
   "id": "47544560-256a-4b7e-890c-e8e4ab2718d2",
   "metadata": {},
   "source": [
    "<a id='Missing_Values'></a>\n",
    "### 3.1.4 Missing Values"
   ]
  },
  {
   "cell_type": "code",
   "execution_count": 18,
   "id": "e726220a-6e60-423a-9770-8d7c65b1deaa",
   "metadata": {},
   "outputs": [
    {
     "data": {
      "text/plain": [
       "Hours     0\n",
       "Scores    0\n",
       "dtype: int64"
      ]
     },
     "execution_count": 18,
     "metadata": {},
     "output_type": "execute_result"
    }
   ],
   "source": [
    "Total = df.isnull().sum()\n",
    "Total"
   ]
  },
  {
   "cell_type": "markdown",
   "id": "1a57d6e8-2a1d-4235-b851-8f5d3a86baf8",
   "metadata": {},
   "source": [
    " We obtain the dataset with no missing values"
   ]
  },
  {
   "cell_type": "markdown",
   "id": "4aa70595-ab48-440d-be62-386bc42751d1",
   "metadata": {},
   "source": [
    "<a id='Visualization'></a>\n",
    "### 3.1.5. Visualization"
   ]
  },
  {
   "cell_type": "code",
   "execution_count": 19,
   "id": "06c5d01f-7780-4244-b88d-faf4e32b460d",
   "metadata": {},
   "outputs": [
    {
     "data": {
      "image/png": "[encoded data removed]",
      "text/plain": [
       "<Figure size 640x480 with 1 Axes>"
      ]
     },
     "metadata": {},
     "output_type": "display_data"
    }
   ],
   "source": [
    "plt.scatter(df['Hours'],df['Scores'])\n",
    "plt.xlabel('Hours')\n",
    "plt.ylabel('Scores')\n",
    "plt.show()"
   ]
  },
  {
   "cell_type": "markdown",
   "id": "32ed3be0-023d-4cda-9966-82dd7e3212a2",
   "metadata": {},
   "source": [
    "\"The scatter plot illustrates a linear relationship between the number of hours studied and the scores achieved, indicating that as study time increases, the scores rise proportionally.\""
   ]
  },
  {
   "cell_type": "markdown",
   "id": "67d24d39-1df5-4801-830e-7fef6a163c5a",
   "metadata": {},
   "source": [
    "<a id='Model Building'></a>\n",
    "## 4. Model Building\n"
   ]
  },
  {
   "cell_type": "markdown",
   "id": "fbe067af-c689-40dd-be35-85cc73252516",
   "metadata": {},
   "source": [
    "**4.1. Split the data into training and test sets**"
   ]
  },
  {
   "cell_type": "code",
   "execution_count": 20,
   "id": "c1b5cf6b-4d9a-48df-abfa-4577dee65f16",
   "metadata": {},
   "outputs": [],
   "source": [
    "#Split the data into features (X) and target (y)\n",
    "X = df[['Hours']]  # Independent variable(s)\n",
    "Y = df['Scores']   # Dependent variable\n",
    "\n"
   ]
  },
  {
   "cell_type": "code",
   "execution_count": 21,
   "id": "5b0a782d-ee67-49f7-b99c-e89f5f20b630",
   "metadata": {},
   "outputs": [
    {
     "name": "stdout",
     "output_type": "stream",
     "text": [
      "The shape of X_train is: (20, 1)\n",
      "The shape of X_test is: (5, 1)\n",
      "The shape of y_train is: (20,)\n",
      "The shape of y_test is: (5,)\n"
     ]
    }
   ],
   "source": [
    "# Spliting the data into training and testing sets\n",
    "X_train, X_test, y_train, y_test = train_test_split(X, Y, test_size=0.2, random_state=1)\n",
    "\n",
    "# check the dimensions of the train & test subset for\n",
    "\n",
    "# print dimension of predictors train set\n",
    "print(\"The shape of X_train is:\",X_train.shape)\n",
    "\n",
    "# print dimension of predictors test set\n",
    "print(\"The shape of X_test is:\",X_test.shape)\n",
    "\n",
    "# print dimension of target train set\n",
    "print(\"The shape of y_train is:\",y_train.shape)\n",
    "\n",
    "# print dimension of target test set\n",
    "print(\"The shape of y_test is:\",y_test.shape)"
   ]
  },
  {
   "cell_type": "markdown",
   "id": "1c7e51b6-9eba-4d17-b831-4b5ef59d5b56",
   "metadata": {},
   "source": [
    "**4.2. Build model**"
   ]
  },
  {
   "cell_type": "code",
   "execution_count": 22,
   "id": "07d86e37-0c19-41aa-a7c9-0290e5a784d4",
   "metadata": {},
   "outputs": [],
   "source": [
    "from sklearn.linear_model import LinearRegression"
   ]
  },
  {
   "cell_type": "markdown",
   "id": "61b0e7ab-9b3c-407c-bedf-95c56d6fa8b6",
   "metadata": {},
   "source": [
    "**4.3. Creating an object**"
   ]
  },
  {
   "cell_type": "code",
   "execution_count": 23,
   "id": "51fc4bfc-d3d9-442e-94f3-afd6759fa129",
   "metadata": {},
   "outputs": [],
   "source": [
    "Lr=LinearRegression()"
   ]
  },
  {
   "cell_type": "markdown",
   "id": "d71c1680-5ed1-421f-956b-97c61cb904d3",
   "metadata": {},
   "source": [
    "**4.4 Training**"
   ]
  },
  {
   "cell_type": "code",
   "execution_count": 24,
   "id": "289b4c92-45a7-41b8-86fa-074a5e3fac50",
   "metadata": {
    "scrolled": true
   },
   "outputs": [
    {
     "data": {
      "text/html": [
       "<style>#sk-container-id-1 {color: black;background-color: white;}#sk-container-id-1 pre{padding: 0;}#sk-container-id-1 div.sk-toggleable {background-color: white;}#sk-container-id-1 label.sk-toggleable__label {cursor: pointer;display: block;width: 100%;margin-bottom: 0;padding: 0.3em;box-sizing: border-box;text-align: center;}#sk-container-id-1 label.sk-toggleable__label-arrow:before {content: \"▸\";float: left;margin-right: 0.25em;color: #696969;}#sk-container-id-1 label.sk-toggleable__label-arrow:hover:before {color: black;}#sk-container-id-1 div.sk-estimator:hover label.sk-toggleable__label-arrow:before {color: black;}#sk-container-id-1 div.sk-toggleable__content {max-height: 0;max-width: 0;overflow: hidden;text-align: left;background-color: #f0f8ff;}#sk-container-id-1 div.sk-toggleable__content pre {margin: 0.2em;color: black;border-radius: 0.25em;background-color: #f0f8ff;}#sk-container-id-1 input.sk-toggleable__control:checked~div.sk-toggleable__content {max-height: 200px;max-width: 100%;overflow: auto;}#sk-container-id-1 input.sk-toggleable__control:checked~label.sk-toggleable__label-arrow:before {content: \"▾\";}#sk-container-id-1 div.sk-estimator input.sk-toggleable__control:checked~label.sk-toggleable__label {background-color: #d4ebff;}#sk-container-id-1 div.sk-label input.sk-toggleable__control:checked~label.sk-toggleable__label {background-color: #d4ebff;}#sk-container-id-1 input.sk-hidden--visually {border: 0;clip: rect(1px 1px 1px 1px);clip: rect(1px, 1px, 1px, 1px);height: 1px;margin: -1px;overflow: hidden;padding: 0;position: absolute;width: 1px;}#sk-container-id-1 div.sk-estimator {font-family: monospace;background-color: #f0f8ff;border: 1px dotted black;border-radius: 0.25em;box-sizing: border-box;margin-bottom: 0.5em;}#sk-container-id-1 div.sk-estimator:hover {background-color: #d4ebff;}#sk-container-id-1 div.sk-parallel-item::after {content: \"\";width: 100%;border-bottom: 1px solid gray;flex-grow: 1;}#sk-container-id-1 div.sk-label:hover label.sk-toggleable__label {background-color: #d4ebff;}#sk-container-id-1 div.sk-serial::before {content: \"\";position: absolute;border-left: 1px solid gray;box-sizing: border-box;top: 0;bottom: 0;left: 50%;z-index: 0;}#sk-container-id-1 div.sk-serial {display: flex;flex-direction: column;align-items: center;background-color: white;padding-right: 0.2em;padding-left: 0.2em;position: relative;}#sk-container-id-1 div.sk-item {position: relative;z-index: 1;}#sk-container-id-1 div.sk-parallel {display: flex;align-items: stretch;justify-content: center;background-color: white;position: relative;}#sk-container-id-1 div.sk-item::before, #sk-container-id-1 div.sk-parallel-item::before {content: \"\";position: absolute;border-left: 1px solid gray;box-sizing: border-box;top: 0;bottom: 0;left: 50%;z-index: -1;}#sk-container-id-1 div.sk-parallel-item {display: flex;flex-direction: column;z-index: 1;position: relative;background-color: white;}#sk-container-id-1 div.sk-parallel-item:first-child::after {align-self: flex-end;width: 50%;}#sk-container-id-1 div.sk-parallel-item:last-child::after {align-self: flex-start;width: 50%;}#sk-container-id-1 div.sk-parallel-item:only-child::after {width: 0;}#sk-container-id-1 div.sk-dashed-wrapped {border: 1px dashed gray;margin: 0 0.4em 0.5em 0.4em;box-sizing: border-box;padding-bottom: 0.4em;background-color: white;}#sk-container-id-1 div.sk-label label {font-family: monospace;font-weight: bold;display: inline-block;line-height: 1.2em;}#sk-container-id-1 div.sk-label-container {text-align: center;}#sk-container-id-1 div.sk-container {/* jupyter's `normalize.less` sets `[hidden] { display: none; }` but bootstrap.min.css set `[hidden] { display: none !important; }` so we also need the `!important` here to be able to override the default hidden behavior on the sphinx rendered scikit-learn.org. See: https://github.com/scikit-learn/scikit-learn/issues/21755 */display: inline-block !important;position: relative;}#sk-container-id-1 div.sk-text-repr-fallback {display: none;}</style><div id=\"sk-container-id-1\" class=\"sk-top-container\"><div class=\"sk-text-repr-fallback\"><pre>LinearRegression()</pre><b>In a Jupyter environment, please rerun this cell to show the HTML representation or trust the notebook. <br />On GitHub, the HTML representation is unable to render, please try loading this page with nbviewer.org.</b></div><div class=\"sk-container\" hidden><div class=\"sk-item\"><div class=\"sk-estimator sk-toggleable\"><input class=\"sk-toggleable__control sk-hidden--visually\" id=\"sk-estimator-id-1\" type=\"checkbox\" checked><label for=\"sk-estimator-id-1\" class=\"sk-toggleable__label sk-toggleable__label-arrow\">LinearRegression</label><div class=\"sk-toggleable__content\"><pre>LinearRegression()</pre></div></div></div></div></div>"
      ],
      "text/plain": [
       "LinearRegression()"
      ]
     },
     "execution_count": 24,
     "metadata": {},
     "output_type": "execute_result"
    }
   ],
   "source": [
    "Lr.fit(X_train,y_train)"
   ]
  },
  {
   "cell_type": "markdown",
   "id": "7b5adb41-8326-45d1-b8d0-1ebc03633284",
   "metadata": {},
   "source": [
    "**4.5. Predict the values using test set**"
   ]
  },
  {
   "cell_type": "code",
   "execution_count": 25,
   "id": "32b4daa5-1164-4278-9e4e-6cd2a1c17bd9",
   "metadata": {},
   "outputs": [
    {
     "name": "stdout",
     "output_type": "stream",
     "text": [
      "    Hours\n",
      "14    1.1\n",
      "13    3.3\n",
      "17    1.9\n",
      "3     8.5\n",
      "21    4.8\n"
     ]
    }
   ],
   "source": [
    "print(X_test)\n",
    "y_pred=Lr.predict(X_test)"
   ]
  },
  {
   "cell_type": "markdown",
   "id": "01c7747b-9e31-4117-8d86-9fec6f8ab05d",
   "metadata": {},
   "source": [
    "**4.6. Comparing actual values to the predicted result**"
   ]
  },
  {
   "cell_type": "code",
   "execution_count": 26,
   "id": "954afc32-6791-4dca-be25-6e0eadaf01eb",
   "metadata": {},
   "outputs": [
    {
     "data": {
      "text/html": [
       "<div>\n",
       "<style scoped>\n",
       "    .dataframe tbody tr th:only-of-type {\n",
       "        vertical-align: middle;\n",
       "    }\n",
       "\n",
       "    .dataframe tbody tr th {\n",
       "        vertical-align: top;\n",
       "    }\n",
       "\n",
       "    .dataframe thead th {\n",
       "        text-align: right;\n",
       "    }\n",
       "</style>\n",
       "<table border=\"1\" class=\"dataframe\">\n",
       "  <thead>\n",
       "    <tr style=\"text-align: right;\">\n",
       "      <th></th>\n",
       "      <th>Hours</th>\n",
       "      <th>Scores</th>\n",
       "    </tr>\n",
       "  </thead>\n",
       "  <tbody>\n",
       "    <tr>\n",
       "      <th>0</th>\n",
       "      <td>2.5</td>\n",
       "      <td>21</td>\n",
       "    </tr>\n",
       "    <tr>\n",
       "      <th>1</th>\n",
       "      <td>5.1</td>\n",
       "      <td>47</td>\n",
       "    </tr>\n",
       "    <tr>\n",
       "      <th>2</th>\n",
       "      <td>3.2</td>\n",
       "      <td>27</td>\n",
       "    </tr>\n",
       "    <tr>\n",
       "      <th>3</th>\n",
       "      <td>8.5</td>\n",
       "      <td>75</td>\n",
       "    </tr>\n",
       "    <tr>\n",
       "      <th>4</th>\n",
       "      <td>3.5</td>\n",
       "      <td>30</td>\n",
       "    </tr>\n",
       "  </tbody>\n",
       "</table>\n",
       "</div>"
      ],
      "text/plain": [
       "   Hours  Scores\n",
       "0    2.5      21\n",
       "1    5.1      47\n",
       "2    3.2      27\n",
       "3    8.5      75\n",
       "4    3.5      30"
      ]
     },
     "execution_count": 26,
     "metadata": {},
     "output_type": "execute_result"
    }
   ],
   "source": [
    "df.head()"
   ]
  },
  {
   "cell_type": "code",
   "execution_count": 27,
   "id": "cef19f81-d3b5-46c2-9723-e2e66aa29dac",
   "metadata": {},
   "outputs": [
    {
     "data": {
      "text/html": [
       "<div>\n",
       "<style scoped>\n",
       "    .dataframe tbody tr th:only-of-type {\n",
       "        vertical-align: middle;\n",
       "    }\n",
       "\n",
       "    .dataframe tbody tr th {\n",
       "        vertical-align: top;\n",
       "    }\n",
       "\n",
       "    .dataframe thead th {\n",
       "        text-align: right;\n",
       "    }\n",
       "</style>\n",
       "<table border=\"1\" class=\"dataframe\">\n",
       "  <thead>\n",
       "    <tr style=\"text-align: right;\">\n",
       "      <th></th>\n",
       "      <th>Scores</th>\n",
       "      <th>Predicted</th>\n",
       "    </tr>\n",
       "  </thead>\n",
       "  <tbody>\n",
       "    <tr>\n",
       "      <th>14</th>\n",
       "      <td>17</td>\n",
       "      <td>9.970262</td>\n",
       "    </tr>\n",
       "    <tr>\n",
       "      <th>13</th>\n",
       "      <td>42</td>\n",
       "      <td>32.984700</td>\n",
       "    </tr>\n",
       "    <tr>\n",
       "      <th>17</th>\n",
       "      <td>24</td>\n",
       "      <td>18.339148</td>\n",
       "    </tr>\n",
       "    <tr>\n",
       "      <th>3</th>\n",
       "      <td>75</td>\n",
       "      <td>87.382463</td>\n",
       "    </tr>\n",
       "    <tr>\n",
       "      <th>21</th>\n",
       "      <td>54</td>\n",
       "      <td>48.676362</td>\n",
       "    </tr>\n",
       "  </tbody>\n",
       "</table>\n",
       "</div>"
      ],
      "text/plain": [
       "    Scores  Predicted\n",
       "14      17   9.970262\n",
       "13      42  32.984700\n",
       "17      24  18.339148\n",
       "3       75  87.382463\n",
       "21      54  48.676362"
      ]
     },
     "execution_count": 27,
     "metadata": {},
     "output_type": "execute_result"
    }
   ],
   "source": [
    "df2=pd.DataFrame({'Scores':y_test,'Predicted':y_pred})\n",
    "df2"
   ]
  },
  {
   "cell_type": "code",
   "execution_count": 28,
   "id": "cf558631-4dcc-4adf-a8e6-b46f17a28d71",
   "metadata": {},
   "outputs": [
    {
     "name": "stdout",
     "output_type": "stream",
     "text": [
      "   Hours  Scores  Predicted\n",
      "0    8.5      75  87.382463\n",
      "1    3.3      42  32.984700\n",
      "2    1.1      17   9.970262\n",
      "3    1.9      24  18.339148\n",
      "4    4.8      54  48.676362\n"
     ]
    }
   ],
   "source": [
    "# Merge df2 with df on the \"Actual\" column\n",
    "merged_df = pd.merge(df, df2, on='Scores')\n",
    "\n",
    "# Print the resulting DataFrame\n",
    "print(merged_df)"
   ]
  },
  {
   "cell_type": "markdown",
   "id": "dc8d4868-ad1d-4a2f-9f77-8903d017f843",
   "metadata": {},
   "source": [
    "This code merges two DataFrames, df and df2, based on the common column 'Scores'. The resulting DataFrame merged_df will contain all rows where the values in the 'Scores' column match between the two DataFrames. The merged DataFrame is then printed, displaying the combined data."
   ]
  },
  {
   "cell_type": "code",
   "execution_count": 29,
   "id": "ae6f07ac-cc69-4cfc-9a66-2acc71a966d1",
   "metadata": {},
   "outputs": [],
   "source": [
    "# Set \"Hours\" column as the index\n",
    "merged_df.set_index('Hours', inplace=True)"
   ]
  },
  {
   "cell_type": "markdown",
   "id": "59a69903-0811-4eb6-a14c-c52ff1b83a92",
   "metadata": {},
   "source": [
    "**4.7. Visualizing Actual vs predicted**"
   ]
  },
  {
   "cell_type": "code",
   "execution_count": 35,
   "id": "9f835223-2a40-4f9c-b067-da5dadb87822",
   "metadata": {},
   "outputs": [
    {
     "data": {
      "image/png": "[encoded data removed]",
      "text/plain": [
       "<Figure size 500x500 with 1 Axes>"
      ]
     },
     "metadata": {},
     "output_type": "display_data"
    }
   ],
   "source": [
    "#plotting bargraph to depict the difference between actual and predicted value\n",
    "merged_df.plot(kind='bar',figsize=(5,5),color=['#008080','#ff6f61'], )\n",
    "plt.legend(['Actual Scores', 'Predicted Scores'])\n",
    "plt.title('Comparison of Actual vs Predicted Scores by Hours')\n",
    "plt.xlabel('Hours')\n",
    "plt.ylabel('Scores')\n",
    "plt.show()"
   ]
  },
  {
   "cell_type": "markdown",
   "id": "b0d312a6-29e1-456a-854b-c15407ca5236",
   "metadata": {},
   "source": [
    "**7. Estimating training and test score**"
   ]
  },
  {
   "cell_type": "code",
   "execution_count": 37,
   "id": "eb4d9509-f473-453c-a871-f14a05fa04bb",
   "metadata": {},
   "outputs": [
    {
     "name": "stdout",
     "output_type": "stream",
     "text": [
      "Training_score: 0.9637848283990599\n",
      "Test_score: 0.8421031525243527\n"
     ]
    }
   ],
   "source": [
    "print(\"Training_score:\",Lr.score(X_train,y_train))\n",
    "print(\"Test_score:\",Lr.score(X_test,y_test))"
   ]
  },
  {
   "cell_type": "markdown",
   "id": "ddb310bc-55ad-4d9f-bc09-31e13142506d",
   "metadata": {},
   "source": [
    "**4.8. Result**"
   ]
  },
  {
   "cell_type": "code",
   "execution_count": 54,
   "id": "e4989cfb-d551-4f12-8e4e-eb061e29610a",
   "metadata": {},
   "outputs": [],
   "source": [
    "#9.25 hrs\n",
    "hours=pd.DataFrame({\"Hours\":[9.25]})\n",
    "predicted_score=Lr.predict(hours)\n"
   ]
  },
  {
   "cell_type": "code",
   "execution_count": 55,
   "id": "0c7332b2-0fad-4345-a12a-dff0c25280ae",
   "metadata": {},
   "outputs": [
    {
     "name": "stdout",
     "output_type": "stream",
     "text": [
      "Student studying for 9.25 Hrs will have the predicted score of :95.22829438402952\n"
     ]
    }
   ],
   "source": [
    "print(f\"Student studying for {hours['Hours'][0]} Hrs will have the predicted score of :{predicted_score[0]}\")"
   ]
  },
  {
   "cell_type": "markdown",
   "id": "c5f3c13f-d32d-4107-99e3-4a3199ac3e3b",
   "metadata": {},
   "source": [
    "### <span style=\"color:#00CED1\">Result = Student studying for 9.25 Hrs will have the predicted score of :95.22829438402952</span>\n"
   ]
  },
  {
   "cell_type": "code",
   "execution_count": null,
   "id": "e7f7a3f6-2278-4d7a-b8e0-d73448d5183c",
   "metadata": {},
   "outputs": [],
   "source": []
  }
 ],
 "metadata": {
  "kernelspec": {
   "display_name": "Python 3 (ipykernel)",
   "language": "python",
   "name": "python3"
  },
  "language_info": {
   "codemirror_mode": {
    "name": "ipython",
    "version": 3
   },
   "file_extension": ".py",
   "mimetype": "text/x-python",
   "name": "python",
   "nbconvert_exporter": "python",
   "pygments_lexer": "ipython3",
   "version": "3.11.7"
  }
 },
 "nbformat": 4,
 "nbformat_minor": 5
}
